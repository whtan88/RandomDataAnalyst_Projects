{
  "nbformat": 4,
  "nbformat_minor": 0,
  "metadata": {
    "colab": {
      "provenance": [],
      "authorship_tag": "ABX9TyPUJ7HjWaPOghUhWs2OB61v",
      "include_colab_link": true
    },
    "kernelspec": {
      "name": "python3",
      "display_name": "Python 3"
    },
    "language_info": {
      "name": "python"
    }
  },
  "cells": [
    {
      "cell_type": "markdown",
      "metadata": {
        "id": "view-in-github",
        "colab_type": "text"
      },
      "source": [
        "<a href=\"https://colab.research.google.com/github/whtan88/RandomDataAnalyst_Projects/blob/main/AI_solves_Monty_Hall_Problem.ipynb\" target=\"_parent\"><img src=\"https://colab.research.google.com/assets/colab-badge.svg\" alt=\"Open In Colab\"/></a>"
      ]
    },
    {
      "cell_type": "markdown",
      "source": [
        "# How does AI solve the Monty Hall Problem?\n",
        "This notebook is about my project on how does Artificial Intelligence approach the Monty Hall Problem, and if it is aligned with what human mathematicians expect the optimal probability to be. Of course for GPTs, since they are trained based on human inputs, they would be expected to follow, but we shall see.\n",
        "\n",
        "I will be using various AI to look at the problem, starting with the GPTs, ChatGPT, Gemini and Meta AI. Next I will also be training some Reinforcement Learning Algorithms to try and solve the problem as well.\n",
        "\n",
        "If you need a refresher on what the Monty Hall Problem is, refer to the below explanations by the various GPTs for the description and solution to the problem.\n",
        "\n",
        "\n",
        "\n"
      ],
      "metadata": {
        "id": "i4ea_gaJNWFA"
      }
    },
    {
      "cell_type": "markdown",
      "source": [
        "# Definition of the Monty Hall Problem by Gemini\n",
        "\n",
        "The Monty Hall problem is a famous brainteaser named after a game show host, Monty Hall. It highlights an interesting counterintuitive concept in probability.\n",
        "\n",
        "Imagine you're on a game show and presented with three doors: behind one is a shiny new car, and behind the other two are goats (let's say consolation prizes). You get to choose one door, but then Monty, who knows what's behind each door, opens another door revealing a goat. Here's the twist: he **always** reveals a goat, but not the one you chose. Now, Monty offers you a chance to switch your selection to the remaining unopened door.\n",
        "\n",
        "The question is: Should you stick with your original choice or switch doors?\n",
        "Most people intuitively think that both doors have an equal chance (50/50) of hiding the car since one goat has been revealed. But that's not quite true!\n",
        "\n",
        "Here's why switching doors is the better strategy:\n",
        "Initially, your chosen door has a 1/3 chance of hiding the car, and the two remaining doors combined have a 2/3 chance (since there are two goats).\n",
        "When Monty reveals a goat behind one of the unchosen doors, he eliminates that possibility but doesn't affect the probability behind your original door (it remains 1/3).\n",
        "\n",
        "Crucially, the probability of the car being behind the remaining unopened door **increases to 2/3** because it now holds all the remaining chance (1- the probability behind your chosen door).\n",
        "\n",
        "Therefore, switching doors gives you a **double the chance** of winning the car compared to sticking with your original choice.\n",
        "\n",
        "Here's a breakdown of the probabilities:\n",
        "\n",
        "**Sticking with your original choice:** 1/3 chance of winning the car.\n",
        "\n",
        "**Switching doors:** 2/3 chance of winning the car.\n",
        "\n",
        "This problem can be surprising because it goes against our intuition of equal chances behind the remaining doors. But by considering the initial probabilities and how Monty's action affects them, we see the advantage of switching."
      ],
      "metadata": {
        "id": "g8s74ifFQEzc"
      }
    },
    {
      "cell_type": "markdown",
      "source": [
        "# Definition of the Monty Hall Problem by ChatGPT\n",
        "The Monty Hall problem is a famous probability puzzle based on a game show scenario. It is named after Monty Hall, the original host of the television game show \"Let's Make a Deal.\" Here's how the problem is typically presented:\n",
        "\n",
        "**The Setup**: Imagine you're on a game show and given a choice of three doors: behind one door is a car (a prize), and behind the other two doors are goats (not the prize). You pick one door, say Door 1.\n",
        "\n",
        "**The Twist**: Before the door you chose is opened, the host, who knows what is behind each door, opens one of the other two doors, say Door 3, to reveal a goat.\n",
        "\n",
        "**The Decision**: You're then given a choice: stick with your original pick (Door 1) or switch to the other unopened door (Door 2).\n",
        "**The Question**: Is it to your advantage to switch your choice?\n",
        "**Solution**:\n",
        "To solve the problem, consider the probabilities involved:\n",
        "\n",
        "Initially, the probability of the car being behind each door is 1/3.\n",
        "You pick one door (for instance, Door 1), which has a 1/3 chance of containing the car and a 2/3 chance that the car is behind one of the other two doors (Door 2 or Door 3).\n",
        "\n",
        "The host then opens a door (say, Door 3) which does not have the car. This part is key: the host always knows what's behind the doors and will always open a door to reveal a goat, effectively giving you information about where the car isn't.\n",
        "\n",
        "After Door 3 is opened to reveal a goat, here's what we know:\n",
        "\n",
        "There was initially a 1/3 chance the car was behind Door 1 (your original choice).\n",
        "There was a 2/3 chance the car was behind Doors 2 or 3. Since the host opened Door 3 to reveal a goat, if the car was not behind Door 1, it must be behind Door 2.\n",
        "\n",
        "This means, after seeing the goat behind Door 3, the probability that the car is behind Door 2 (the door you did not originally pick) is now 2/3. The probability that the car is behind Door 1 (your original choice) remains 1/3.\n",
        "\n",
        "**Conclusion**: You should switch to Door 2. By switching, you have a 2/3 chance of winning the car, compared to a 1/3 chance if you stick with your original choice. Switching doors doubles your chances of winning the car, based on the probabilities revealed by the host's action of opening one of the other doors to show a goat."
      ],
      "metadata": {
        "id": "rpxaSL85O-19"
      }
    },
    {
      "cell_type": "markdown",
      "source": [
        "# Definition of the Monty Hall Problem by Meta AI\n",
        "Imagine you're a contestant on a game show, and you're presented with three doors. Behind one door is a brand new car, while the other two doors have goats behind them. You don't know which door has the car and which doors have the goats.\n",
        "Here's how the game works:\n",
        "\n",
        "You choose a door, but you don't open it yet.\n",
        "The game show host, Monty Hall, opens one of the other two doors, and behind it is a goat.\n",
        "Now, you have a choice: you can stick with your original door or switch to the other unopened door.\n",
        "*The question is:* Should you stick with your original door or switch to the other door?\n",
        "\n",
        "The solution:\n",
        "Intuitively, it might seem like it doesn't matter whether you stick or switch, as there are two doors left, and each has a 50% chance of having the car. However, this is where the problem gets interesting.\n",
        "\n",
        "The key to solving the Monty Hall problem is to understand that the game show host, Monty Hall, has knowledge that you don't. He knows which door has the car and which doors have the goats. When he opens one of the other two doors, he's not randomly selecting a door; he's deliberately showing you a goat.\n",
        "Given this information, the probability of the car being behind each door changes. When you first choose a door, there's a 1/3 chance that the car is behind that door and a 2/3 chance that the car is behind one of the other two doors.\n",
        "\n",
        "When Monty Hall opens one of the other two doors and shows you a goat, the probability that the car is behind your original door remains 1/3, but the probability that the car is behind the other unopened door is now 2/3.\n",
        "So, what should you do?\n",
        "\n",
        "To maximize your chances of winning the car, you should *switch doors*. By switching, you effectively merge the 2/3 probability of the car being behind one of the other two doors into a single door, giving you a 2/3 chance of winning the car.\n",
        "\n",
        "If you stick with your original door, you'll only have a 1/3 chance of winning.\n",
        "\n",
        "Remember, the Monty Hall problem is a classic example of how our intuition can sometimes lead us astray, and how understanding the underlying probabilities can help us make better decisions."
      ],
      "metadata": {
        "id": "gWTxYdq9OLS3"
      }
    },
    {
      "cell_type": "markdown",
      "source": [
        "# Coding the Monty Hall Problem\n",
        "\n",
        "Next, we can move on to code the Monty Hall problem in python. We will start by creating the code so that users can interact and visualise it first before we move on to coding the Reinforcement Learning Agent for it."
      ],
      "metadata": {
        "id": "eL-_0tim_Ubf"
      }
    },
    {
      "cell_type": "code",
      "execution_count": 17,
      "metadata": {
        "id": "9Xe2zubcNSW1",
        "colab": {
          "base_uri": "https://localhost:8080/"
        },
        "outputId": "fb9b03a7-7486-47b4-a2b0-a0789ddbdb58"
      },
      "outputs": [
        {
          "output_type": "stream",
          "name": "stdout",
          "text": [
            "Requirement already satisfied: gymnasium in /usr/local/lib/python3.10/dist-packages (0.29.1)\n",
            "Requirement already satisfied: numpy>=1.21.0 in /usr/local/lib/python3.10/dist-packages (from gymnasium) (1.25.2)\n",
            "Requirement already satisfied: cloudpickle>=1.2.0 in /usr/local/lib/python3.10/dist-packages (from gymnasium) (2.2.1)\n",
            "Requirement already satisfied: typing-extensions>=4.3.0 in /usr/local/lib/python3.10/dist-packages (from gymnasium) (4.11.0)\n",
            "Requirement already satisfied: farama-notifications>=0.0.1 in /usr/local/lib/python3.10/dist-packages (from gymnasium) (0.0.4)\n"
          ]
        }
      ],
      "source": [
        "import numpy as np\n",
        "import random\n",
        "import matplotlib.pyplot as plt\n",
        "\n",
        "!pip install gymnasium\n",
        "import gymnasium as gym\n",
        "from gymnasium import spaces"
      ]
    },
    {
      "cell_type": "markdown",
      "source": [
        "# Defining the Monty Hall Problem for human visualisation\n",
        "\n"
      ],
      "metadata": {
        "id": "eU8Pr1sGBNEl"
      }
    },
    {
      "cell_type": "code",
      "source": [
        "def monty_hall_problem():\n",
        "  def first_choice():\n",
        "    Choices = [0, 1, 2]\n",
        "    Choices_2 = [0, 1, 2]\n",
        "    print(\"Welcome to the game show! Select a door number either 0 , 1  or 2! One of them will have prize of a car and the other 2 are sheeps. Now, which door will you choose?\")\n",
        "    while True:\n",
        "      try:\n",
        "        selection = int(input())\n",
        "      except ValueError:\n",
        "        print(\"Invalid input. Please enter a valid integer.\")\n",
        "        continue\n",
        "      if selection in Choices:\n",
        "        prize = random.choice(Choices)\n",
        "        Choices_2.remove(selection)\n",
        "        if prize in Choices_2:\n",
        "          Choices_2.remove(prize)\n",
        "          open_door = Choices_2[0]\n",
        "          Choices.remove(open_door)\n",
        "          door_to_switch_to = prize\n",
        "          break\n",
        "        else:\n",
        "          open_door = random.choice(Choices_2)\n",
        "          Choices.remove(open_door)\n",
        "          Choices_2.remove(open_door)\n",
        "          door_to_switch_to = Choices_2[0]\n",
        "          break\n",
        "      else:\n",
        "        print(\"Invalid input. Please select door 0, 1 or 2.\")\n",
        "    return Choices, Choices_2, selection, open_door, door_to_switch_to, prize\n",
        "\n",
        "  def second_choice(Choices, Choices_2, selection, open_door, door_to_switch_to, prize):\n",
        "    print(f\"After you selected door {selection}, the Game show host opens door no. {open_door} and gives you the opportunity to choose again. Would you retain your door {selection} or switch to door {door_to_switch_to}?\")\n",
        "    while True:\n",
        "      try:\n",
        "        final_selection = int(input())\n",
        "      except ValueError:\n",
        "        print(\"Invalid input. Please enter a valid integer.\")\n",
        "        continue\n",
        "      if final_selection in Choices:\n",
        "        break\n",
        "      else:\n",
        "        print(f\"Select an appropriate door number, either retain your initial door {selection} or switch to door {door_to_switch_to}?\")\n",
        "    return final_selection\n",
        "\n",
        "  def check(prize,final_selection):\n",
        "    if final_selection in Choices and final_selection == prize:\n",
        "      print(\"Congratulations! You won the car!\")\n",
        "    else:\n",
        "      print(\"Sorry, unfortunately you have not won the car.\")\n",
        "\n",
        "\n",
        "  Choices, Choices_2, selection, open_door, door_to_switch_to, prize = first_choice()\n",
        "  #print(f\"Prize: {prize}, Open Door: {open_door}, Door to switch to: {door_to_switch_to}\")\n",
        "  final_selection = second_choice(Choices, Choices_2, selection, open_door, door_to_switch_to, prize)\n",
        "  check(prize,final_selection)\n",
        "  return\n"
      ],
      "metadata": {
        "id": "8PJsEiAULsIs"
      },
      "execution_count": 18,
      "outputs": []
    },
    {
      "cell_type": "code",
      "source": [
        "monty_hall_problem()"
      ],
      "metadata": {
        "colab": {
          "base_uri": "https://localhost:8080/"
        },
        "id": "pbTNVgtbOXoH",
        "outputId": "6287be4e-9acd-46d3-939a-5bc7f00e4dc2"
      },
      "execution_count": 40,
      "outputs": [
        {
          "output_type": "stream",
          "name": "stdout",
          "text": [
            "Welcome to the game show! Select a door number either 0 , 1  or 2! One of them will have prize of a car and the other 2 are sheeps. Now, which door will you choose?\n",
            "1\n",
            "After you selected door 1, the Game show host opens door no. 0 and gives you the opportunity to choose again. Would you retain your door 1 or switch to door 2?\n",
            "2\n",
            "Sorry, unfortunately you have not won the car.\n"
          ]
        }
      ]
    },
    {
      "cell_type": "markdown",
      "source": [
        "# Defining Monty Hall optimal solution"
      ],
      "metadata": {
        "id": "NxLvuxKnBXzb"
      }
    },
    {
      "cell_type": "code",
      "source": [
        "# Defining the monty hall problem but remove all the input and output texts and always choosing to switch door instead to test the efficacy of the solution.\n",
        "def monty_hall_solution(rounds):\n",
        "  results = []\n",
        "  for j in range(rounds):\n",
        "    Choices = [0, 1, 2]\n",
        "    Choices_2 = [0, 1, 2]\n",
        "    selection = random.choice(Choices)\n",
        "    prize = random.choice(Choices)\n",
        "    Choices_2.remove(selection)\n",
        "    if prize in Choices_2:\n",
        "      Choices_2.remove(prize)\n",
        "      open_door = Choices_2[0]\n",
        "      final_selection = prize\n",
        "    else:\n",
        "      open_door = random.choice(Choices_2)\n",
        "      Choices_2.remove(open_door)\n",
        "      final_selection = Choices_2[0]\n",
        "    if final_selection == prize:\n",
        "      results.append(1)\n",
        "    else:\n",
        "      results.append(0)\n",
        "  return results"
      ],
      "metadata": {
        "id": "a5GCcq2HaLtq"
      },
      "execution_count": 20,
      "outputs": []
    },
    {
      "cell_type": "code",
      "source": [
        "i = 100\n",
        "results = monty_hall_solution(i)\n",
        "success = results.count(1)\n",
        "fail = results.count(0)\n",
        "print(f\"Successful results: {success}. Rate: {round(100*success/i,2)} %\")\n",
        "print(f\"Unsuccessful results: {fail}. Rate: {round(100*fail/i,2)} %\")"
      ],
      "metadata": {
        "id": "MqzXQZZk4V-U",
        "colab": {
          "base_uri": "https://localhost:8080/"
        },
        "outputId": "16a33238-ae1c-4891-e729-0fbb9c502921"
      },
      "execution_count": 24,
      "outputs": [
        {
          "output_type": "stream",
          "name": "stdout",
          "text": [
            "Successful results: 67. Rate: 67.0 %\n",
            "Unsuccessful results: 33. Rate: 33.0 %\n"
          ]
        }
      ]
    },
    {
      "cell_type": "code",
      "source": [
        "i = 1000\n",
        "results = monty_hall_solution(i)\n",
        "success = results.count(1)\n",
        "fail = results.count(0)\n",
        "print(f\"Successful results: {success}. Rate: {round(100*success/i,2)} %\")\n",
        "print(f\"Unsuccessful results: {fail}. Rate: {round(100*fail/i,2)} %\")"
      ],
      "metadata": {
        "id": "wMHBTArXiR28",
        "colab": {
          "base_uri": "https://localhost:8080/"
        },
        "outputId": "9a998df5-4017-4010-ab41-60a5b7b0d756"
      },
      "execution_count": 25,
      "outputs": [
        {
          "output_type": "stream",
          "name": "stdout",
          "text": [
            "Successful results: 653. Rate: 65.3 %\n",
            "Unsuccessful results: 347. Rate: 34.7 %\n"
          ]
        }
      ]
    },
    {
      "cell_type": "markdown",
      "source": [
        "The results are pretty astonishing to me as it is actually quite close to the estimated probability rate calculated from the provided solution as well, regardless of the number of tries!"
      ],
      "metadata": {
        "id": "3bQaz0Pm4Zve"
      }
    },
    {
      "cell_type": "markdown",
      "source": [
        "# Testing on GPTs\n",
        "\n",
        "So I ran on the below block of code to generate 5 random prize door results so that I may ask the GPTs to test. I won't be testing more as they generally retain memory and asking them the same questions repeatedly will not assist in the test as they will provide the same answer.\n",
        "\n",
        "\n",
        "---\n",
        "test = []\n",
        "for i in range(5):\n",
        "  j = random.choice([0, 1, 2])\n",
        "  test.append(j)\n",
        "print(test)\n",
        "\n",
        "---\n",
        "The prize door test to check with the LLMs are:\n",
        "[0, 0, 0, 0, 2]\n",
        "\n",
        "\n",
        "---\n",
        "Prompt I used to ask the various GPTs:\n",
        "\n",
        "Initial Question:\n",
        "Imagine you’re on a game show and given a choice of 3 doors. Behind one door is a car, which is the prize. And behind the other 2 doors are goats, which are not prizes. Which door would you pick?\n",
        "\n",
        "Follow Up Question if necessary:\n",
        "Before your choice door is revealed, the host opens another door, door 2 which reveals a goat. You are then given a choice to stick with your original pick or switch to the other unopened door. What would you do and why?\n",
        "\n",
        "---\n",
        "\n",
        "The doors below have been incremented by 1 so as to match the results of the GPTs.\n",
        "\n",
        "Initial Choices|1st|2nd|3rd|4th|5th\n",
        "--|--|--|--|--|--\n",
        "ChatGPT|1|1|1|1|1\n",
        "Gemini|1|2|3|1|1\n",
        "Meta AI|1|2|1|3|1\n",
        "<br>\n",
        "\n",
        "Prize Door|1|1|1|1|3\n",
        "--|--|--|--|--|--\n",
        "ChatGPT|2|3|3|2|3\n",
        "Gemini|2|1|1|3|3\n",
        "Meta AI|3|1|2|1|3\n",
        "\n",
        "---\n",
        "\n",
        "ChatGPT:\n",
        "<br>Success Rate: 1 / 5 (20%)\n",
        "<br>ChatGPT always chooses Door 1.\n",
        "\n",
        "Gemini:\n",
        "<br>Success Rate: 3 / 5 (60%)\n",
        "<br>Gemini randomises its choice reluctantly but follows the Monty Hall solution.\n",
        "\n",
        "Meta AI:\n",
        "<br>Success Rate: 3 / 5 (60%)\n",
        "<br>Meta AI randomises its choice.\n",
        "\n",
        "Observations:\n",
        "<br>- As long as GPT randomise the initial choice and follow the solution, the GPT will be able to get the result with a similar rate to the expected probability.\n",
        "<br>- As long as your initial choice is not the winning door, you will win for sure.\n",
        "<br>- ChatGPT is more consistent with its answer and doesn't change it's initial choice regardless.\n",
        "\n",
        "---\n",
        "What if we rephrase the Monty Hall problem differently, would the GPTs be able to contextualise it and apply the solution accordingly?\n",
        "\n",
        "\n",
        "Initial Question:\n",
        "<br>Imagine you are looking for directions to a city in the middle of the wilderness. You arrive at a forked path with 3 roads, road 1, road 2 and road 3. You know that only one of them will lead to the city. You have to choose a road. Which will you choose?\n",
        "\n",
        "\n",
        "Follow Up Question if necessary:\n",
        "<br>After you have selected your road, you noticed a signpost which indicates that one of the other 2 roads you did not select does not lead you to your destination. Would you now stick with your initial choice or switch to the last road?\n",
        "\n",
        "Observations:\n",
        "All of them are able to contextualise the problem and provide the Monty Hall Solution."
      ],
      "metadata": {
        "id": "oc4mn1fGm2pj"
      }
    },
    {
      "cell_type": "markdown",
      "source": [
        "# Defining the Monty Hall Environment for Reinforcement Learning\n",
        "\n",
        "Here, I will code a Monty Hall gymnasium environment for a Q Learning Algorithm to try out. I will code it as a choice between 2 actions, as the initial choice is pretty much irrelevant. The more important action is when the host opens the door, and the agent has to choose between sticking to the original choice, or to switch to the remaining unopened door.\n",
        "\n",
        "Apart from building the class of gymnasium environment, I will register it as well so that we can load it to the agent for training."
      ],
      "metadata": {
        "id": "ClV94_9cBfCY"
      }
    },
    {
      "cell_type": "code",
      "source": [
        "class MontyHallEnv(gym.Env):\n",
        "  def __init__(self):\n",
        "    # 2 Choices, either to stick with the initially chosen door, or to switch to the other door\n",
        "    self.action_space = spaces.Discrete(2)\n",
        "    # Observation of 1 of 3 doors\n",
        "    self.observation_space = spaces.Discrete(3)\n",
        "    # Initial starting position\n",
        "    self.state = spaces.Discrete(2).sample()\n",
        "    # Prize winning door\n",
        "    self.winning_door = spaces.Discrete(3).sample()\n",
        "    # Interim Door options available for computation\n",
        "    self.options = [0, 1, 2]\n",
        "    # Door choices available as the Monty Hall problem progresses\n",
        "    self.choices = [0, 1, 2]\n",
        "\n",
        "  def step(self,action):\n",
        "    terminated = False\n",
        "    truncated = False\n",
        "    reward = 0\n",
        "    choice_1 = spaces.Discrete(3).sample()\n",
        "    self.options.remove(choice_1)\n",
        "    self.choices.remove(choice_1)\n",
        "\n",
        "    # Defining the remaining unopened door for action\n",
        "    if self.winning_door in self.options:\n",
        "      self.options.remove(self.winning_door)\n",
        "      opened_door = self.options[0]\n",
        "    else:\n",
        "      opened_door = random.choice(self.options)\n",
        "\n",
        "    self.choices.remove(opened_door)\n",
        "\n",
        "    # Action 0 is for retaining the initial door\n",
        "    if action == 0:\n",
        "      self.state = choice_1\n",
        "    # Action 1 is for switching to the unopened door\n",
        "    else:\n",
        "      self.state = self.choices[0]\n",
        "\n",
        "    # Reward if the chosen door matches the winning door\n",
        "    if self.state == self.winning_door:\n",
        "      reward = 1\n",
        "      terminated = True\n",
        "    else:\n",
        "      reward = 0\n",
        "      truncated = True\n",
        "\n",
        "    # Logging the information for recording purpose\n",
        "    info = {\"Action\": action,\"Initial Door\": choice_1, \"Opened Door\": opened_door ,\"Selected Door\": self.state, \"Winning Door\": self.winning_door}\n",
        "\n",
        "    return self.state, reward, terminated, truncated, info\n",
        "\n",
        "  def reset(self):\n",
        "    self.state = spaces.Discrete(3).sample()\n",
        "    self.winning_door = spaces.Discrete(3).sample()\n",
        "    self.options = [0, 1, 2]\n",
        "    self.choices = [0, 1, 2]\n",
        "    return self.state\n",
        "\n",
        "# Register the environment with a unique name\n",
        "gym.envs.register(\n",
        "    id=\"MontyHallProbEnv\",\n",
        "    entry_point=\"__main__:MontyHallEnv\",\n",
        ")"
      ],
      "metadata": {
        "id": "IZbZWFxzlzsT",
        "colab": {
          "base_uri": "https://localhost:8080/"
        },
        "outputId": "452ab165-4c12-4fa5-f9bb-2dafa8b2f683"
      },
      "execution_count": 33,
      "outputs": [
        {
          "output_type": "stream",
          "name": "stderr",
          "text": [
            "/usr/local/lib/python3.10/dist-packages/gymnasium/envs/registration.py:694: UserWarning: \u001b[33mWARN: Overriding environment MontyHallProbEnv already in registry.\u001b[0m\n",
            "  logger.warn(f\"Overriding environment {new_spec.id} already in registry.\")\n"
          ]
        }
      ]
    },
    {
      "cell_type": "markdown",
      "source": [
        "After we have defined the Reinforcement Learning Environment above, we can test it out below. I have printed the information so that we can verify that the environment is working as per what we expect to see in the Monty Hall problem. I have input the variables that we expect to see in the problem in the info logging, and we can see from the below results that everything is working as per expected."
      ],
      "metadata": {
        "id": "gjAtKAHDBlSE"
      }
    },
    {
      "cell_type": "code",
      "source": [
        "# Sample running the environment to check that it is working as per expected\n",
        "env = MontyHallEnv()\n",
        "\n",
        "for epi in range(10):\n",
        "  state = env.reset()\n",
        "  terminated = False\n",
        "  truncated = False\n",
        "\n",
        "  while not terminated and not truncated:\n",
        "    action = env.action_space.sample()  # agent policy that uses the observation and info\n",
        "    observation, reward, terminated, truncated, info = env.step(action)\n",
        "\n",
        "  print(f\"Episode {epi} : Reward: {reward} Info: {info}\")"
      ],
      "metadata": {
        "id": "mtV7_BRNqsoV",
        "colab": {
          "base_uri": "https://localhost:8080/"
        },
        "outputId": "466f485d-fd8a-4926-b0fa-000581223ed7"
      },
      "execution_count": 34,
      "outputs": [
        {
          "output_type": "stream",
          "name": "stdout",
          "text": [
            "Episode 0 : Reward: 1 Info: {'Action': 1, 'Initial Door': 2, 'Opened Door': 0, 'Selected Door': 1, 'Winning Door': 1}\n",
            "Episode 1 : Reward: 0 Info: {'Action': 0, 'Initial Door': 2, 'Opened Door': 1, 'Selected Door': 2, 'Winning Door': 0}\n",
            "Episode 2 : Reward: 1 Info: {'Action': 0, 'Initial Door': 0, 'Opened Door': 1, 'Selected Door': 0, 'Winning Door': 0}\n",
            "Episode 3 : Reward: 1 Info: {'Action': 1, 'Initial Door': 0, 'Opened Door': 2, 'Selected Door': 1, 'Winning Door': 1}\n",
            "Episode 4 : Reward: 0 Info: {'Action': 0, 'Initial Door': 1, 'Opened Door': 0, 'Selected Door': 1, 'Winning Door': 2}\n",
            "Episode 5 : Reward: 0 Info: {'Action': 1, 'Initial Door': 2, 'Opened Door': 1, 'Selected Door': 0, 'Winning Door': 2}\n",
            "Episode 6 : Reward: 0 Info: {'Action': 0, 'Initial Door': 0, 'Opened Door': 1, 'Selected Door': 0, 'Winning Door': 2}\n",
            "Episode 7 : Reward: 0 Info: {'Action': 1, 'Initial Door': 1, 'Opened Door': 0, 'Selected Door': 2, 'Winning Door': 1}\n",
            "Episode 8 : Reward: 1 Info: {'Action': 0, 'Initial Door': 2, 'Opened Door': 1, 'Selected Door': 2, 'Winning Door': 2}\n",
            "Episode 9 : Reward: 1 Info: {'Action': 1, 'Initial Door': 0, 'Opened Door': 2, 'Selected Door': 1, 'Winning Door': 1}\n"
          ]
        }
      ]
    },
    {
      "cell_type": "markdown",
      "source": [
        "Next, we will code a simple Q learning algorithm to train in this Monty Hall Problem Environment. There isn't going to be much as there are not going to be mutiple steps in a single episode. There is only going to be a single step, before it gets either terminated or truncated."
      ],
      "metadata": {
        "id": "DzxQFct3JRh7"
      }
    },
    {
      "cell_type": "code",
      "source": [
        "# Create the environment for Q-learning consumption\n",
        "env = gym.make(\"MontyHallProbEnv\")\n",
        "\n",
        "# Define q table here\n",
        "os_dim = 5\n",
        "q_table = np.random.uniform(low=-2, high=0, size=(env.observation_space.n, env.action_space.n))\n",
        "\n",
        "def run_test(env = env\n",
        "             ,LEARNING_RATE = 0.1\n",
        "             ,EPISODES = 10\n",
        "             ,os_dim = os_dim\n",
        "             ,q_table = q_table\n",
        "             ,epsilon = 0.3):\n",
        "\n",
        "  # Initialize the state variable\n",
        "  state = env.reset()\n",
        "\n",
        "  # Computing Metrics\n",
        "  episode_division = 1000\n",
        "  ep_rewards = []\n",
        "  log = {'episode': [] , 'action': [], 'reward': [], 'success_rate': []}\n",
        "\n",
        "\n",
        "  for episode in range(EPISODES):\n",
        "      obs= env.reset()\n",
        "      terminated = False\n",
        "      truncated = False\n",
        "      r = 0\n",
        "\n",
        "      while not terminated and not truncated:\n",
        "\n",
        "          if random.uniform(0,1) <= epsilon and episode <= (epsilon * EPISODES):\n",
        "              # Get random action\n",
        "              action = env.action_space.sample()\n",
        "          else:\n",
        "              # Get action from Q table\n",
        "              action = np.argmax(q_table[state])\n",
        "\n",
        "          new_state, reward, terminated, truncated, info = env.step(action)\n",
        "\n",
        "      if truncated:\n",
        "        # Simple Q learning algorithm, update the Q table here\n",
        "        best_next_action  = np.argmax(q_table[new_state])\n",
        "        td_target = reward + (1 - LEARNING_RATE) * q_table[new_state][best_next_action]\n",
        "        td_error = td_target - q_table[state][action]\n",
        "        q_table[state][action] += LEARNING_RATE *td_error\n",
        "        log['success_rate'].append(0)\n",
        "\n",
        "      elif terminated :\n",
        "        if new_state == env.unwrapped.winning_door:\n",
        "          q_table[new_state][action] = reward\n",
        "          r += reward\n",
        "          state = new_state\n",
        "          log['success_rate'].append(1)\n",
        "\n",
        "      if EPISODES<=10:\n",
        "        print(f\"Episode {episode} : Reward: {reward} Info: {info}\")\n",
        "      # Logging the stats of each episode\n",
        "      log['episode'].append(episode)\n",
        "      log['action'].append(action)\n",
        "      log['reward'].append(reward)\n",
        "\n",
        "      env.close()\n",
        "\n",
        "  print(\"Training completed!\")\n",
        "\n",
        "  return log"
      ],
      "metadata": {
        "id": "4rjysKbyMIle"
      },
      "execution_count": 35,
      "outputs": []
    },
    {
      "cell_type": "markdown",
      "source": [
        "After coding the RL agent, let's do a simple test below. Great, it seems to be working as per expected. The info logging is printing out the expected results as well."
      ],
      "metadata": {
        "id": "XOG7-ZLmJhbK"
      }
    },
    {
      "cell_type": "code",
      "source": [
        "# Sample test run\n",
        "log = run_test(env = env, EPISODES=5)"
      ],
      "metadata": {
        "id": "ucfzO3skrwfa",
        "colab": {
          "base_uri": "https://localhost:8080/"
        },
        "outputId": "620caba5-bb0e-4d6f-f28c-6eaed10396b7"
      },
      "execution_count": 36,
      "outputs": [
        {
          "output_type": "stream",
          "name": "stdout",
          "text": [
            "Episode 0 : Reward: 0 Info: {'Action': 0, 'Initial Door': 2, 'Opened Door': 0, 'Selected Door': 2, 'Winning Door': 1}\n",
            "Episode 1 : Reward: 1 Info: {'Action': 0, 'Initial Door': 0, 'Opened Door': 2, 'Selected Door': 0, 'Winning Door': 0}\n",
            "Episode 2 : Reward: 0 Info: {'Action': 0, 'Initial Door': 1, 'Opened Door': 2, 'Selected Door': 1, 'Winning Door': 0}\n",
            "Episode 3 : Reward: 0 Info: {'Action': 0, 'Initial Door': 1, 'Opened Door': 2, 'Selected Door': 1, 'Winning Door': 0}\n",
            "Episode 4 : Reward: 1 Info: {'Action': 0, 'Initial Door': 2, 'Opened Door': 0, 'Selected Door': 2, 'Winning Door': 2}\n",
            "Training completed!\n"
          ]
        }
      ]
    },
    {
      "cell_type": "markdown",
      "source": [
        "We can proceed to train it properly. Let's train it on 10,000 episodes. This shouldn't take too long to train as it is a simple environment."
      ],
      "metadata": {
        "id": "xQbjxZLpJyuD"
      }
    },
    {
      "cell_type": "code",
      "source": [
        "log = run_test(env = env, EPISODES=10000)"
      ],
      "metadata": {
        "id": "LcrCTP-1DM-d",
        "colab": {
          "base_uri": "https://localhost:8080/"
        },
        "outputId": "bd44f91b-e0de-4100-9dfb-e5f4cceb42cb"
      },
      "execution_count": 37,
      "outputs": [
        {
          "output_type": "stream",
          "name": "stdout",
          "text": [
            "Training completed!\n"
          ]
        }
      ]
    },
    {
      "cell_type": "markdown",
      "source": [
        "We can plot a graph of action over episodes to see what is the strategy or solution that the RL agent came up with. We can see that over time, it has actually gradually shifted to favouring switching doors as the number of episodes increased, though there are some times that it chose to retain the initial choice as well. But the change in the action population over the episodes show that  the RL agent has determined that the best strategy to obtain the reward is to switch doors."
      ],
      "metadata": {
        "id": "WGUz2AcNJ_2u"
      }
    },
    {
      "cell_type": "code",
      "source": [
        "plt.figure(figsize=(15,5))\n",
        "plt.title(\"Graph of Action over Episodes\")\n",
        "plt.plot(log['episode'], log['action'])\n",
        "plt.xlabel(\"Episode\")\n",
        "plt.ylabel(\"Action\")\n",
        "plt.grid(True)\n",
        "plt.show()"
      ],
      "metadata": {
        "id": "w1IEkch2DNFk",
        "colab": {
          "base_uri": "https://localhost:8080/",
          "height": 487
        },
        "outputId": "c2131d6b-0a33-449d-a965-56a669c21445"
      },
      "execution_count": 38,
      "outputs": [
        {
          "output_type": "display_data",
          "data": {
            "text/plain": [
              "<Figure size 1500x500 with 1 Axes>"
            ],
            "image/png": "[encoded data removed]"
          },
          "metadata": {}
        }
      ]
    },
    {
      "cell_type": "markdown",
      "source": [
        "We can take a quick look at the results of the last 1000 episodes. Similarly to what I have done above, we can do a quick computation of the success rate. Why I have taken the last 1000 episodes is because the agent has had sufficient training time to determine an optimal approach and it would be more reflective of the outcome of the training process.\n",
        "\n",
        "Here, we can see that it is still quite close to the estimated probability rate calculated from the provided solution as well!"
      ],
      "metadata": {
        "id": "QQICguTZKAws"
      }
    },
    {
      "cell_type": "code",
      "source": [
        "success = log['success_rate'][-1000:].count(1)\n",
        "fail = log['success_rate'][-1000:].count(0)\n",
        "print(f\"Successful results: {success}. Rate: {round(100*success/(len(log['success_rate'][-1000:])),2)} %\")\n",
        "print(f\"Unsuccessful results: {fail}. Rate: {round(100*fail/len(log['success_rate'][-1000:]),2)} %\")"
      ],
      "metadata": {
        "id": "UfA49v-uIq-p",
        "colab": {
          "base_uri": "https://localhost:8080/"
        },
        "outputId": "b79a6a02-7660-4526-89dc-6ae790536930"
      },
      "execution_count": 39,
      "outputs": [
        {
          "output_type": "stream",
          "name": "stdout",
          "text": [
            "Successful results: 658. Rate: 65.8 %\n",
            "Unsuccessful results: 342. Rate: 34.2 %\n"
          ]
        }
      ]
    },
    {
      "cell_type": "markdown",
      "source": [
        "# Conclusion\n",
        "\n",
        "We have tested various ways of looking at the Monty Hall Problem. We have:\n",
        "\n",
        "* coded the problem, and tested it using the expected probability solution\n",
        "* asked various GPTs such as ChatGPT, Google Gemini and Meta AI and they all came back with the same solution\n",
        "* trained a simple Reinforcement Learning Agent to solve it\n",
        "\n",
        "and all the results led back to the unintuitive probability solution, which is to always switch door."
      ],
      "metadata": {
        "id": "oxiRtY5vK_wu"
      }
    }
  ]
}